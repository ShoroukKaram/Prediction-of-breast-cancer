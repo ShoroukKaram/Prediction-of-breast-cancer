{
  "nbformat": 4,
  "nbformat_minor": 0,
  "metadata": {
    "colab": {
      "private_outputs": true,
      "provenance": []
    },
    "kernelspec": {
      "name": "python3",
      "display_name": "Python 3"
    },
    "language_info": {
      "name": "python"
    }
  },
  "cells": [
    {
      "cell_type": "code",
      "execution_count": null,
      "metadata": {
        "id": "X_zRLmYzvigm"
      },
      "outputs": [],
      "source": [
        "import pandas as pd\n",
        "import numpy as np\n",
        "import matplotlib.pyplot as plt\n",
        "\n",
        "from sklearn.model_selection import train_test_split\n",
        "from sklearn.metrics import accuracy_score\n",
        "from sklearn.svm import SVC\n",
        "from sklearn import datasets\n",
        "import matplotlib as plt\n",
        "from sklearn import svm\n",
        "from sklearn.preprocessing import StandardScaler\n",
        "import seaborn as sns\n",
        "from sklearn.metrics import confusion_matrix\n",
        "from matplotlib.colors import ListedColormap\n",
        "from keras.models import load_model\n",
        "import seaborn as sns\n"
      ]
    },
    {
      "cell_type": "code",
      "source": [
        "bc = datasets.load_breast_cancer()\n",
        "X, y = bc.data, bc.target\n",
        "\n",
        "X_train,X_test,y_train,y_test =train_test_split(X,y,test_size=0.27,random_state=0) "
      ],
      "metadata": {
        "id": "XpoDZVpWwJRc"
      },
      "execution_count": null,
      "outputs": []
    },
    {
      "cell_type": "code",
      "source": [
        "\n",
        "# scalling the input data\n",
        "sc_X = StandardScaler() \n",
        "X_train = sc_X.fit_transform(X_train)\n",
        "X_test = sc_X.fit_transform(X_test)"
      ],
      "metadata": {
        "id": "5slR7IMRwKPX"
      },
      "execution_count": null,
      "outputs": []
    },
    {
      "cell_type": "code",
      "source": [
        "model = SVC()\n",
        "model.fit(X_train,y_train)\n",
        "#  Check classifier accuracy on test data and see result \n",
        "Y_predict = model.predict(X_test)\n",
        "print(\"Accuracy: \",accuracy_score(y_test,Y_predict)*100)\n"
      ],
      "metadata": {
        "id": "yH5O03j-wNkX"
      },
      "execution_count": null,
      "outputs": []
    },
    {
      "cell_type": "code",
      "source": [
        "#y_predict = svc_model.predict(X_test)       \n",
        "cm = confusion_matrix(y_test,Y_predict) \n",
        "                                          \n",
        "sns.heatmap(cm,annot=True)"
      ],
      "metadata": {
        "id": "5y7bjoILwQ88"
      },
      "execution_count": null,
      "outputs": []
    },
    {
      "cell_type": "code",
      "source": [
        "cm"
      ],
      "metadata": {
        "id": "LcfzJB9XwVpQ"
      },
      "execution_count": null,
      "outputs": []
    },
    {
      "cell_type": "code",
      "source": [
        "from sklearn.metrics import roc_curve\n",
        "svc=svm.SVC(kernel = 'linear',C=0.1,probability=True) \n",
        "svc.fit(X_train,y_train)\n",
        "pos_prob=svc.predict_proba(X_test)[:,1]\n",
        "\n",
        "FPR,TPR,threshold=roc_curve(y_test,pos_prob)"
      ],
      "metadata": {
        "id": "iYf2-1jPwaCd"
      },
      "execution_count": null,
      "outputs": []
    },
    {
      "cell_type": "code",
      "source": [
        "import matplotlib.pyplot as plt\n",
        "plt.plot(FPR,TPR)\n",
        "plt.plot([0,1],[0,1],'--')\n",
        "plt.ylabel(\"True positive rate\")\n",
        "plt.xlabel(\"False positive rate\")"
      ],
      "metadata": {
        "id": "5rIfIbVExl1y"
      },
      "execution_count": null,
      "outputs": []
    },
    {
      "cell_type": "code",
      "source": [
        "from sklearn.metrics import auc\n",
        "auc(FPR,TPR)"
      ],
      "metadata": {
        "id": "RR8R0DLzyOqj"
      },
      "execution_count": null,
      "outputs": []
    },
    {
      "cell_type": "code",
      "source": [],
      "metadata": {
        "id": "kbKCXhgv8pIF"
      },
      "execution_count": null,
      "outputs": []
    }
  ]
}